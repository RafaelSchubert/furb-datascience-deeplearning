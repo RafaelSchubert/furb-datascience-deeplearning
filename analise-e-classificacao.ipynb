{
 "cells": [
  {
   "cell_type": "code",
   "execution_count": 1,
   "id": "a1c890ee",
   "metadata": {},
   "outputs": [],
   "source": [
    "import pandas as pd\n",
    "import re\n",
    "import torch\n",
    "from torchtext import datasets\n",
    "from typing import Iterable, List, Tuple"
   ]
  },
  {
   "cell_type": "code",
   "execution_count": 2,
   "id": "8c7fd61b",
   "metadata": {},
   "outputs": [],
   "source": [
    "(train_set_it, test_set_it) = datasets.IMDB()"
   ]
  },
  {
   "cell_type": "code",
   "execution_count": 3,
   "id": "64e25157",
   "metadata": {},
   "outputs": [],
   "source": [
    "def translate_sentiment(sentiment: str) -> int:\n",
    "    return 1 if sentiment.lower() == 'pos' else 0\n",
    "\n",
    "def translate_set_tuple_to_df_tuple(set_tuple: Tuple[str, str]) -> Tuple[int, str]:\n",
    "    (sentiment, review) = set_tuple\n",
    "    return (translate_sentiment(sentiment), review.lower())\n",
    "\n",
    "def translate_set_to_list(set_iterator: Iterable[Tuple[str, str]]) -> List[Tuple[int, str]]:\n",
    "    return [translate_set_tuple_to_df_tuple(set_tp) for set_tp in set_iterator]\n",
    "\n",
    "def translate_to_df(set_iterator: Iterable[Tuple[str, str]]) -> pd.DataFrame:\n",
    "    return pd.DataFrame(data=translate_set_to_list(set_iterator),\n",
    "                        columns=['sentiment', 'review'])"
   ]
  },
  {
   "cell_type": "code",
   "execution_count": 4,
   "id": "5a176898",
   "metadata": {},
   "outputs": [],
   "source": [
    "df_train = translate_to_df(train_set_it)\n",
    "del train_set_it"
   ]
  },
  {
   "cell_type": "code",
   "execution_count": 5,
   "id": "53a296ec",
   "metadata": {},
   "outputs": [],
   "source": [
    "df_test = translate_to_df(test_set_it)\n",
    "del test_set_it"
   ]
  },
  {
   "cell_type": "code",
   "execution_count": 6,
   "id": "4938b2bb",
   "metadata": {},
   "outputs": [
    {
     "data": {
      "text/plain": [
       "(25000, 25000)"
      ]
     },
     "execution_count": 6,
     "metadata": {},
     "output_type": "execute_result"
    }
   ],
   "source": [
    "len(df_train), len(df_test)"
   ]
  },
  {
   "cell_type": "code",
   "execution_count": 7,
   "id": "d0cf36da",
   "metadata": {},
   "outputs": [
    {
     "data": {
      "text/plain": [
       "0    0.5\n",
       "1    0.5\n",
       "Name: sentiment, dtype: float64"
      ]
     },
     "execution_count": 7,
     "metadata": {},
     "output_type": "execute_result"
    }
   ],
   "source": [
    "df_train['sentiment'].value_counts(normalize=True)"
   ]
  },
  {
   "cell_type": "code",
   "execution_count": 8,
   "id": "3e36da0c",
   "metadata": {},
   "outputs": [
    {
     "data": {
      "text/plain": [
       "0    0.5\n",
       "1    0.5\n",
       "Name: sentiment, dtype: float64"
      ]
     },
     "execution_count": 8,
     "metadata": {},
     "output_type": "execute_result"
    }
   ],
   "source": [
    "df_test['sentiment'].value_counts(normalize=True)"
   ]
  },
  {
   "cell_type": "code",
   "execution_count": 9,
   "id": "8ccf35f9",
   "metadata": {},
   "outputs": [],
   "source": [
    "def trim_str(value: str) -> str:\n",
    "    return value.strip() if value else value\n",
    "\n",
    "def is_str_null_or_empty(value: str) -> bool:\n",
    "    return not trim_str(value)\n",
    "\n",
    "def is_str_series_complete(series: Iterable[str]) -> bool:\n",
    "    return not any(map(is_str_null_or_empty, series))"
   ]
  },
  {
   "cell_type": "code",
   "execution_count": 10,
   "id": "cb61e0b5",
   "metadata": {},
   "outputs": [
    {
     "data": {
      "text/plain": [
       "True"
      ]
     },
     "execution_count": 10,
     "metadata": {},
     "output_type": "execute_result"
    }
   ],
   "source": [
    "is_str_series_complete(df_train['review'])"
   ]
  },
  {
   "cell_type": "code",
   "execution_count": 11,
   "id": "f431574d",
   "metadata": {},
   "outputs": [
    {
     "data": {
      "text/plain": [
       "True"
      ]
     },
     "execution_count": 11,
     "metadata": {},
     "output_type": "execute_result"
    }
   ],
   "source": [
    "is_str_series_complete(df_test['review'])"
   ]
  },
  {
   "cell_type": "code",
   "execution_count": 12,
   "id": "99155455",
   "metadata": {},
   "outputs": [],
   "source": [
    "def minmax_length_in_str_series(series: pd.Series) -> Tuple[int, int]:\n",
    "    minmax_length = series.apply(len).agg(['min', 'max'])\n",
    "    return (minmax_length['min'], minmax_length['max'])"
   ]
  },
  {
   "cell_type": "code",
   "execution_count": 13,
   "id": "3398da8e",
   "metadata": {},
   "outputs": [
    {
     "data": {
      "text/plain": [
       "(52, 13704)"
      ]
     },
     "execution_count": 13,
     "metadata": {},
     "output_type": "execute_result"
    }
   ],
   "source": [
    "minmax_length_in_str_series(df_train['review'])"
   ]
  },
  {
   "cell_type": "code",
   "execution_count": 14,
   "id": "b0b903ab",
   "metadata": {},
   "outputs": [
    {
     "data": {
      "text/plain": [
       "(32, 12988)"
      ]
     },
     "execution_count": 14,
     "metadata": {},
     "output_type": "execute_result"
    }
   ],
   "source": [
    "minmax_length_in_str_series(df_test['review'])"
   ]
  },
  {
   "cell_type": "code",
   "execution_count": 15,
   "id": "f3ef6dea",
   "metadata": {},
   "outputs": [
    {
     "data": {
      "text/html": [
       "<div>\n",
       "<style scoped>\n",
       "    .dataframe tbody tr th:only-of-type {\n",
       "        vertical-align: middle;\n",
       "    }\n",
       "\n",
       "    .dataframe tbody tr th {\n",
       "        vertical-align: top;\n",
       "    }\n",
       "\n",
       "    .dataframe thead th {\n",
       "        text-align: right;\n",
       "    }\n",
       "</style>\n",
       "<table border=\"1\" class=\"dataframe\">\n",
       "  <thead>\n",
       "    <tr style=\"text-align: right;\">\n",
       "      <th></th>\n",
       "      <th>sentiment</th>\n",
       "      <th>review</th>\n",
       "    </tr>\n",
       "  </thead>\n",
       "  <tbody>\n",
       "    <tr>\n",
       "      <th>0</th>\n",
       "      <td>0</td>\n",
       "      <td>i rented i am curious-yellow from my video sto...</td>\n",
       "    </tr>\n",
       "    <tr>\n",
       "      <th>1</th>\n",
       "      <td>0</td>\n",
       "      <td>\"i am curious: yellow\" is a risible and preten...</td>\n",
       "    </tr>\n",
       "    <tr>\n",
       "      <th>2</th>\n",
       "      <td>0</td>\n",
       "      <td>if only to avoid making this type of film in t...</td>\n",
       "    </tr>\n",
       "    <tr>\n",
       "      <th>3</th>\n",
       "      <td>0</td>\n",
       "      <td>this film was probably inspired by godard's ma...</td>\n",
       "    </tr>\n",
       "    <tr>\n",
       "      <th>4</th>\n",
       "      <td>0</td>\n",
       "      <td>oh, brother...after hearing about this ridicul...</td>\n",
       "    </tr>\n",
       "  </tbody>\n",
       "</table>\n",
       "</div>"
      ],
      "text/plain": [
       "   sentiment                                             review\n",
       "0          0  i rented i am curious-yellow from my video sto...\n",
       "1          0  \"i am curious: yellow\" is a risible and preten...\n",
       "2          0  if only to avoid making this type of film in t...\n",
       "3          0  this film was probably inspired by godard's ma...\n",
       "4          0  oh, brother...after hearing about this ridicul..."
      ]
     },
     "execution_count": 15,
     "metadata": {},
     "output_type": "execute_result"
    }
   ],
   "source": [
    "df_train.head()"
   ]
  },
  {
   "cell_type": "code",
   "execution_count": 16,
   "id": "92a623ee",
   "metadata": {},
   "outputs": [
    {
     "data": {
      "text/html": [
       "<div>\n",
       "<style scoped>\n",
       "    .dataframe tbody tr th:only-of-type {\n",
       "        vertical-align: middle;\n",
       "    }\n",
       "\n",
       "    .dataframe tbody tr th {\n",
       "        vertical-align: top;\n",
       "    }\n",
       "\n",
       "    .dataframe thead th {\n",
       "        text-align: right;\n",
       "    }\n",
       "</style>\n",
       "<table border=\"1\" class=\"dataframe\">\n",
       "  <thead>\n",
       "    <tr style=\"text-align: right;\">\n",
       "      <th></th>\n",
       "      <th>sentiment</th>\n",
       "      <th>review</th>\n",
       "    </tr>\n",
       "  </thead>\n",
       "  <tbody>\n",
       "    <tr>\n",
       "      <th>0</th>\n",
       "      <td>0</td>\n",
       "      <td>i love sci-fi and am willing to put up with a ...</td>\n",
       "    </tr>\n",
       "    <tr>\n",
       "      <th>1</th>\n",
       "      <td>0</td>\n",
       "      <td>worth the entertainment value of a rental, esp...</td>\n",
       "    </tr>\n",
       "    <tr>\n",
       "      <th>2</th>\n",
       "      <td>0</td>\n",
       "      <td>its a totally average film with a few semi-alr...</td>\n",
       "    </tr>\n",
       "    <tr>\n",
       "      <th>3</th>\n",
       "      <td>0</td>\n",
       "      <td>star rating: ***** saturday night **** friday ...</td>\n",
       "    </tr>\n",
       "    <tr>\n",
       "      <th>4</th>\n",
       "      <td>0</td>\n",
       "      <td>first off let me say, if you haven't enjoyed a...</td>\n",
       "    </tr>\n",
       "  </tbody>\n",
       "</table>\n",
       "</div>"
      ],
      "text/plain": [
       "   sentiment                                             review\n",
       "0          0  i love sci-fi and am willing to put up with a ...\n",
       "1          0  worth the entertainment value of a rental, esp...\n",
       "2          0  its a totally average film with a few semi-alr...\n",
       "3          0  star rating: ***** saturday night **** friday ...\n",
       "4          0  first off let me say, if you haven't enjoyed a..."
      ]
     },
     "execution_count": 16,
     "metadata": {},
     "output_type": "execute_result"
    }
   ],
   "source": [
    "df_test.head()"
   ]
  },
  {
   "cell_type": "code",
   "execution_count": 17,
   "id": "d2480282",
   "metadata": {},
   "outputs": [],
   "source": [
    "def print_first_five_reviews_from_each_df(dfs_to_iterate) -> None:\n",
    "    for df in dfs_to_iterate:\n",
    "        for review in df['review'][:5]:\n",
    "            print(f'\\t{review}\\n')"
   ]
  },
  {
   "cell_type": "code",
   "execution_count": 18,
   "id": "dd43a9b9",
   "metadata": {},
   "outputs": [
    {
     "name": "stdout",
     "output_type": "stream",
     "text": [
      "\ti rented i am curious-yellow from my video store because of all the controversy that surrounded it when it was first released in 1967. i also heard that at first it was seized by u.s. customs if it ever tried to enter this country, therefore being a fan of films considered \"controversial\" i really had to see this for myself.<br /><br />the plot is centered around a young swedish drama student named lena who wants to learn everything she can about life. in particular she wants to focus her attentions to making some sort of documentary on what the average swede thought about certain political issues such as the vietnam war and race issues in the united states. in between asking politicians and ordinary denizens of stockholm about their opinions on politics, she has sex with her drama teacher, classmates, and married men.<br /><br />what kills me about i am curious-yellow is that 40 years ago, this was considered pornographic. really, the sex and nudity scenes are few and far between, even then it's not shot like some cheaply made porno. while my countrymen mind find it shocking, in reality sex and nudity are a major staple in swedish cinema. even ingmar bergman, arguably their answer to good old boy john ford, had sex scenes in his films.<br /><br />i do commend the filmmakers for the fact that any sex shown in the film is shown for artistic purposes rather than just to shock people and make money to be shown in pornographic theaters in america. i am curious-yellow is a good film for anyone wanting to study the meat and potatoes (no pun intended) of swedish cinema. but really, this film doesn't have much of a plot.\n",
      "\n",
      "\t\"i am curious: yellow\" is a risible and pretentious steaming pile. it doesn't matter what one's political views are because this film can hardly be taken seriously on any level. as for the claim that frontal male nudity is an automatic nc-17, that isn't true. i've seen r-rated films with male nudity. granted, they only offer some fleeting views, but where are the r-rated films with gaping vulvas and flapping labia? nowhere, because they don't exist. the same goes for those crappy cable shows: schlongs swinging in the breeze but not a clitoris in sight. and those pretentious indie movies like the brown bunny, in which we're treated to the site of vincent gallo's throbbing johnson, but not a trace of pink visible on chloe sevigny. before crying (or implying) \"double-standard\" in matters of nudity, the mentally obtuse should take into account one unavoidably obvious anatomical difference between men and women: there are no genitals on display when actresses appears nude, and the same cannot be said for a man. in fact, you generally won't see female genitals in an american film in anything short of porn or explicit erotica. this alleged double-standard is less a double standard than an admittedly depressing ability to come to terms culturally with the insides of women's bodies.\n",
      "\n",
      "\tif only to avoid making this type of film in the future. this film is interesting as an experiment but tells no cogent story.<br /><br />one might feel virtuous for sitting thru it because it touches on so many important issues but it does so without any discernable motive. the viewer comes away with no new perspectives (unless one comes up with one while one's mind wanders, as it will invariably do during this pointless film).<br /><br />one might better spend one's time staring out a window at a tree growing.<br /><br />\n",
      "\n",
      "\tthis film was probably inspired by godard's masculin, féminin and i urge you to see that film instead.<br /><br />the film has two strong elements and those are, (1) the realistic acting (2) the impressive, undeservedly good, photo. apart from that, what strikes me most is the endless stream of silliness. lena nyman has to be most annoying actress in the world. she acts so stupid and with all the nudity in this film,...it's unattractive. comparing to godard's film, intellectuality has been replaced with stupidity. without going too far on this subject, i would say that follows from the difference in ideals between the french and the swedish society.<br /><br />a movie of its time, and place. 2/10.\n",
      "\n",
      "\toh, brother...after hearing about this ridiculous film for umpteen years all i can think of is that old peggy lee song..<br /><br />\"is that all there is??\" ...i was just an early teen when this smoked fish hit the u.s. i was too young to get in the theater (although i did manage to sneak into \"goodbye columbus\"). then a screening at a local film museum beckoned - finally i could see this film, except now i was as old as my parents were when they schlepped to see it!!<br /><br />the only reason this film was not condemned to the anonymous sands of time was because of the obscenity case sparked by its u.s. release. millions of people flocked to this stinker, thinking they were going to see a sex film...instead, they got lots of closeups of gnarly, repulsive swedes, on-street interviews in bland shopping malls, asinie political pretension...and feeble who-cares simulated sex scenes with saggy, pale actors.<br /><br />cultural icon, holy grail, historic artifact..whatever this thing was, shred it, burn it, then stuff the ashes in a lead box!<br /><br />elite esthetes still scrape to find value in its boring pseudo revolutionary political spewings..but if it weren't for the censorship scandal, it would have been ignored, then forgotten.<br /><br />instead, the \"i am blank, blank\" rhythymed title was repeated endlessly for years as a titilation for porno films (i am curious, lavender - for gay films, i am curious, black - for blaxploitation films, etc..) and every ten years or so the thing rises from the dead, to be viewed by a new generation of suckers who want to see that \"naughty sex film\" that \"revolutionized the film industry\"...<br /><br />yeesh, avoid like the plague..or if you must see it - rent the video and fast forward to the \"dirty\" parts, just to get it over with.<br /><br />\n",
      "\n",
      "\ti love sci-fi and am willing to put up with a lot. sci-fi movies/tv are usually underfunded, under-appreciated and misunderstood. i tried to like this, i really did, but it is to good tv sci-fi as babylon 5 is to star trek (the original). silly prosthetics, cheap cardboard sets, stilted dialogues, cg that doesn't match the background, and painfully one-dimensional characters cannot be overcome with a 'sci-fi' setting. (i'm sure there are those of you out there who think babylon 5 is good sci-fi tv. it's not. it's clichéd and uninspiring.) while us viewers might like emotion and character development, sci-fi is a genre that does not take itself seriously (cf. star trek). it may treat important issues, yet not as a serious philosophy. it's really difficult to care about the characters here as they are not simply foolish, just missing a spark of life. their actions and reactions are wooden and predictable, often painful to watch. the makers of earth know it's rubbish as they have to always say \"gene roddenberry's earth...\" otherwise people would not continue watching. roddenberry's ashes must be turning in their orbit as this dull, cheap, poorly edited (watching it without advert breaks really brings this home) trudging trabant of a show lumbers into space. spoiler. so, kill off a main character. and then bring him back as another actor. jeeez! dallas all over again.\n",
      "\n",
      "\tworth the entertainment value of a rental, especially if you like action movies. this one features the usual car chases, fights with the great van damme kick style, shooting battles with the 40 shell load shotgun, and even terrorist style bombs. all of this is entertaining and competently handled but there is nothing that really blows you away if you've seen your share before.<br /><br />the plot is made interesting by the inclusion of a rabbit, which is clever but hardly profound. many of the characters are heavily stereotyped -- the angry veterans, the terrified illegal aliens, the crooked cops, the indifferent feds, the bitchy tough lady station head, the crooked politician, the fat federale who looks like he was typecast as the mexican in a hollywood movie from the 1940s. all passably acted but again nothing special.<br /><br />i thought the main villains were pretty well done and fairly well acted. by the end of the movie you certainly knew who the good guys were and weren't. there was an emotional lift as the really bad ones got their just deserts. very simplistic, but then you weren't expecting hamlet, right? the only thing i found really annoying was the constant cuts to vds daughter during the last fight scene.<br /><br />not bad. not good. passable 4.\n",
      "\n",
      "\tits a totally average film with a few semi-alright action sequences that make the plot seem a little better and remind the viewer of the classic van dam films. parts of the plot don't make sense and seem to be added in to use up time. the end plot is that of a very basic type that doesn't leave the viewer guessing and any twists are obvious from the beginning. the end scene with the flask backs don't make sense as they are added in and seem to have little relevance to the history of van dam's character. not really worth watching again, bit disappointed in the end production, even though it is apparent it was shot on a low budget certain shots and sections in the film are of poor directed quality\n",
      "\n",
      "\tstar rating: ***** saturday night **** friday night *** friday morning ** sunday night * monday morning <br /><br />former new orleans homicide cop jack robideaux (jean claude van damme) is re-assigned to columbus, a small but violent town in mexico to help the police there with their efforts to stop a major heroin smuggling operation into their town. the culprits turn out to be ex-military, lead by former commander benjamin meyers (stephen lord, otherwise known as jase from east enders) who is using a special method he learned in afghanistan to fight off his opponents. but jack has a more personal reason for taking him down, that draws the two men into an explosive final showdown where only one will walk away alive.<br /><br />after until death, van damme appeared to be on a high, showing he could make the best straight to video films in the action market. while that was a far more drama oriented film, with the shepherd he has returned to the high-kicking, no brainer action that first made him famous and has sadly produced his worst film since derailed. it's nowhere near as bad as that film, but what i said still stands.<br /><br />a dull, predictable film, with very little in the way of any exciting action. what little there is mainly consists of some limp fight scenes, trying to look cool and trendy with some cheap slo-mo/sped up effects added to them that sadly instead make them look more desperate. being a mexican set film, director isaac florentine has tried to give the film a robert rodriguez/desperado sort of feel, but this only adds to the desperation.<br /><br />vd gives a particularly uninspired performance and given he's never been a robert de niro sort of actor, that can't be good. as the villain, lord shouldn't expect to leave the beeb anytime soon. he gets little dialogue at the beginning as he struggles to muster an american accent but gets mysteriously better towards the end. all the supporting cast are equally bland, and do nothing to raise the films spirits at all.<br /><br />this is one shepherd that's strayed right from the flock. *\n",
      "\n",
      "\tfirst off let me say, if you haven't enjoyed a van damme movie since bloodsport, you probably will not like this movie. most of these movies may not have the best plots or best actors but i enjoy these kinds of movies for what they are. this movie is much better than any of the movies the other action guys (segal and dolph) have thought about putting out the past few years. van damme is good in the movie, the movie is only worth watching to van damme fans. it is not as good as wake of death (which i highly recommend to anyone of likes van damme) or in hell but, in my opinion it's worth watching. it has the same type of feel to it as nowhere to run. good fun stuff!\n",
      "\n"
     ]
    }
   ],
   "source": [
    "print_first_five_reviews_from_each_df([df_train, df_test])"
   ]
  },
  {
   "cell_type": "code",
   "execution_count": 19,
   "id": "3becc6e3",
   "metadata": {},
   "outputs": [],
   "source": [
    "def remove_html_line_breaks_from_str(value: str) -> str:\n",
    "    html_line_break_pattern = r'<\\s*(?:/\\s*br|br\\s*/)\\s*>'\n",
    "    return ' '.join(re.split(html_line_break_pattern, value))"
   ]
  },
  {
   "cell_type": "code",
   "execution_count": 20,
   "id": "4dc183db",
   "metadata": {},
   "outputs": [],
   "source": [
    "for df in [df_train, df_test]:\n",
    "    df['review'] = df['review'].apply(remove_html_line_breaks_from_str)"
   ]
  },
  {
   "cell_type": "code",
   "execution_count": 21,
   "id": "88cad0ee",
   "metadata": {},
   "outputs": [
    {
     "name": "stdout",
     "output_type": "stream",
     "text": [
      "\ti rented i am curious-yellow from my video store because of all the controversy that surrounded it when it was first released in 1967. i also heard that at first it was seized by u.s. customs if it ever tried to enter this country, therefore being a fan of films considered \"controversial\" i really had to see this for myself.  the plot is centered around a young swedish drama student named lena who wants to learn everything she can about life. in particular she wants to focus her attentions to making some sort of documentary on what the average swede thought about certain political issues such as the vietnam war and race issues in the united states. in between asking politicians and ordinary denizens of stockholm about their opinions on politics, she has sex with her drama teacher, classmates, and married men.  what kills me about i am curious-yellow is that 40 years ago, this was considered pornographic. really, the sex and nudity scenes are few and far between, even then it's not shot like some cheaply made porno. while my countrymen mind find it shocking, in reality sex and nudity are a major staple in swedish cinema. even ingmar bergman, arguably their answer to good old boy john ford, had sex scenes in his films.  i do commend the filmmakers for the fact that any sex shown in the film is shown for artistic purposes rather than just to shock people and make money to be shown in pornographic theaters in america. i am curious-yellow is a good film for anyone wanting to study the meat and potatoes (no pun intended) of swedish cinema. but really, this film doesn't have much of a plot.\n",
      "\n",
      "\t\"i am curious: yellow\" is a risible and pretentious steaming pile. it doesn't matter what one's political views are because this film can hardly be taken seriously on any level. as for the claim that frontal male nudity is an automatic nc-17, that isn't true. i've seen r-rated films with male nudity. granted, they only offer some fleeting views, but where are the r-rated films with gaping vulvas and flapping labia? nowhere, because they don't exist. the same goes for those crappy cable shows: schlongs swinging in the breeze but not a clitoris in sight. and those pretentious indie movies like the brown bunny, in which we're treated to the site of vincent gallo's throbbing johnson, but not a trace of pink visible on chloe sevigny. before crying (or implying) \"double-standard\" in matters of nudity, the mentally obtuse should take into account one unavoidably obvious anatomical difference between men and women: there are no genitals on display when actresses appears nude, and the same cannot be said for a man. in fact, you generally won't see female genitals in an american film in anything short of porn or explicit erotica. this alleged double-standard is less a double standard than an admittedly depressing ability to come to terms culturally with the insides of women's bodies.\n",
      "\n",
      "\tif only to avoid making this type of film in the future. this film is interesting as an experiment but tells no cogent story.  one might feel virtuous for sitting thru it because it touches on so many important issues but it does so without any discernable motive. the viewer comes away with no new perspectives (unless one comes up with one while one's mind wanders, as it will invariably do during this pointless film).  one might better spend one's time staring out a window at a tree growing.  \n",
      "\n",
      "\tthis film was probably inspired by godard's masculin, féminin and i urge you to see that film instead.  the film has two strong elements and those are, (1) the realistic acting (2) the impressive, undeservedly good, photo. apart from that, what strikes me most is the endless stream of silliness. lena nyman has to be most annoying actress in the world. she acts so stupid and with all the nudity in this film,...it's unattractive. comparing to godard's film, intellectuality has been replaced with stupidity. without going too far on this subject, i would say that follows from the difference in ideals between the french and the swedish society.  a movie of its time, and place. 2/10.\n",
      "\n",
      "\toh, brother...after hearing about this ridiculous film for umpteen years all i can think of is that old peggy lee song..  \"is that all there is??\" ...i was just an early teen when this smoked fish hit the u.s. i was too young to get in the theater (although i did manage to sneak into \"goodbye columbus\"). then a screening at a local film museum beckoned - finally i could see this film, except now i was as old as my parents were when they schlepped to see it!!  the only reason this film was not condemned to the anonymous sands of time was because of the obscenity case sparked by its u.s. release. millions of people flocked to this stinker, thinking they were going to see a sex film...instead, they got lots of closeups of gnarly, repulsive swedes, on-street interviews in bland shopping malls, asinie political pretension...and feeble who-cares simulated sex scenes with saggy, pale actors.  cultural icon, holy grail, historic artifact..whatever this thing was, shred it, burn it, then stuff the ashes in a lead box!  elite esthetes still scrape to find value in its boring pseudo revolutionary political spewings..but if it weren't for the censorship scandal, it would have been ignored, then forgotten.  instead, the \"i am blank, blank\" rhythymed title was repeated endlessly for years as a titilation for porno films (i am curious, lavender - for gay films, i am curious, black - for blaxploitation films, etc..) and every ten years or so the thing rises from the dead, to be viewed by a new generation of suckers who want to see that \"naughty sex film\" that \"revolutionized the film industry\"...  yeesh, avoid like the plague..or if you must see it - rent the video and fast forward to the \"dirty\" parts, just to get it over with.  \n",
      "\n",
      "\ti love sci-fi and am willing to put up with a lot. sci-fi movies/tv are usually underfunded, under-appreciated and misunderstood. i tried to like this, i really did, but it is to good tv sci-fi as babylon 5 is to star trek (the original). silly prosthetics, cheap cardboard sets, stilted dialogues, cg that doesn't match the background, and painfully one-dimensional characters cannot be overcome with a 'sci-fi' setting. (i'm sure there are those of you out there who think babylon 5 is good sci-fi tv. it's not. it's clichéd and uninspiring.) while us viewers might like emotion and character development, sci-fi is a genre that does not take itself seriously (cf. star trek). it may treat important issues, yet not as a serious philosophy. it's really difficult to care about the characters here as they are not simply foolish, just missing a spark of life. their actions and reactions are wooden and predictable, often painful to watch. the makers of earth know it's rubbish as they have to always say \"gene roddenberry's earth...\" otherwise people would not continue watching. roddenberry's ashes must be turning in their orbit as this dull, cheap, poorly edited (watching it without advert breaks really brings this home) trudging trabant of a show lumbers into space. spoiler. so, kill off a main character. and then bring him back as another actor. jeeez! dallas all over again.\n",
      "\n",
      "\tworth the entertainment value of a rental, especially if you like action movies. this one features the usual car chases, fights with the great van damme kick style, shooting battles with the 40 shell load shotgun, and even terrorist style bombs. all of this is entertaining and competently handled but there is nothing that really blows you away if you've seen your share before.  the plot is made interesting by the inclusion of a rabbit, which is clever but hardly profound. many of the characters are heavily stereotyped -- the angry veterans, the terrified illegal aliens, the crooked cops, the indifferent feds, the bitchy tough lady station head, the crooked politician, the fat federale who looks like he was typecast as the mexican in a hollywood movie from the 1940s. all passably acted but again nothing special.  i thought the main villains were pretty well done and fairly well acted. by the end of the movie you certainly knew who the good guys were and weren't. there was an emotional lift as the really bad ones got their just deserts. very simplistic, but then you weren't expecting hamlet, right? the only thing i found really annoying was the constant cuts to vds daughter during the last fight scene.  not bad. not good. passable 4.\n",
      "\n",
      "\tits a totally average film with a few semi-alright action sequences that make the plot seem a little better and remind the viewer of the classic van dam films. parts of the plot don't make sense and seem to be added in to use up time. the end plot is that of a very basic type that doesn't leave the viewer guessing and any twists are obvious from the beginning. the end scene with the flask backs don't make sense as they are added in and seem to have little relevance to the history of van dam's character. not really worth watching again, bit disappointed in the end production, even though it is apparent it was shot on a low budget certain shots and sections in the film are of poor directed quality\n",
      "\n",
      "\tstar rating: ***** saturday night **** friday night *** friday morning ** sunday night * monday morning   former new orleans homicide cop jack robideaux (jean claude van damme) is re-assigned to columbus, a small but violent town in mexico to help the police there with their efforts to stop a major heroin smuggling operation into their town. the culprits turn out to be ex-military, lead by former commander benjamin meyers (stephen lord, otherwise known as jase from east enders) who is using a special method he learned in afghanistan to fight off his opponents. but jack has a more personal reason for taking him down, that draws the two men into an explosive final showdown where only one will walk away alive.  after until death, van damme appeared to be on a high, showing he could make the best straight to video films in the action market. while that was a far more drama oriented film, with the shepherd he has returned to the high-kicking, no brainer action that first made him famous and has sadly produced his worst film since derailed. it's nowhere near as bad as that film, but what i said still stands.  a dull, predictable film, with very little in the way of any exciting action. what little there is mainly consists of some limp fight scenes, trying to look cool and trendy with some cheap slo-mo/sped up effects added to them that sadly instead make them look more desperate. being a mexican set film, director isaac florentine has tried to give the film a robert rodriguez/desperado sort of feel, but this only adds to the desperation.  vd gives a particularly uninspired performance and given he's never been a robert de niro sort of actor, that can't be good. as the villain, lord shouldn't expect to leave the beeb anytime soon. he gets little dialogue at the beginning as he struggles to muster an american accent but gets mysteriously better towards the end. all the supporting cast are equally bland, and do nothing to raise the films spirits at all.  this is one shepherd that's strayed right from the flock. *\n",
      "\n",
      "\tfirst off let me say, if you haven't enjoyed a van damme movie since bloodsport, you probably will not like this movie. most of these movies may not have the best plots or best actors but i enjoy these kinds of movies for what they are. this movie is much better than any of the movies the other action guys (segal and dolph) have thought about putting out the past few years. van damme is good in the movie, the movie is only worth watching to van damme fans. it is not as good as wake of death (which i highly recommend to anyone of likes van damme) or in hell but, in my opinion it's worth watching. it has the same type of feel to it as nowhere to run. good fun stuff!\n",
      "\n"
     ]
    }
   ],
   "source": [
    "print_first_five_reviews_from_each_df([df_train, df_test])"
   ]
  },
  {
   "cell_type": "code",
   "execution_count": 24,
   "id": "c9374fc8",
   "metadata": {},
   "outputs": [],
   "source": [
    "def split_sentences(value: str) -> List[str]:\n",
    "    SENTENCE_END = '.!?:;'\n",
    "    SCOPE_BEGIN = '([{'\n",
    "    SCOPE_END = ')]}'\n",
    "    sentences = []\n",
    "    pending_sentences = []\n",
    "    current_sentence = ''\n",
    "    sentence_start = 0\n",
    "\n",
    "    def append_piece_to_current_sentence(piece: str) -> None:\n",
    "        nonlocal current_sentence\n",
    "        current_sentence += piece\n",
    "\n",
    "    def append_current_piece_to_current_sentence() -> None:\n",
    "        append_piece_to_current_sentence(value[sentence_start:i])\n",
    "\n",
    "    def append_last_piece_to_current_sentence() -> None:\n",
    "        append_piece_to_current_sentence(value[sentence_start:])\n",
    "\n",
    "    def add_sentence(sentence: str) -> None:\n",
    "        trimmed_sentence = sentence.strip()\n",
    "        if trimmed_sentence:\n",
    "            sentences.append(trimmed_sentence)\n",
    "\n",
    "    def add_current_sentence() -> None:\n",
    "        add_sentence(current_sentence)\n",
    "\n",
    "    for (i, c) in enumerate(value):\n",
    "        if c in SCOPE_BEGIN:\n",
    "            append_current_piece_to_current_sentence()\n",
    "            pending_sentences.append(current_sentence)\n",
    "            current_sentence = ''\n",
    "            sentence_start = i+1\n",
    "        elif c in SCOPE_END:\n",
    "            append_current_piece_to_current_sentence()\n",
    "            add_current_sentence()\n",
    "            current_sentence = pending_sentences.pop(-1) if pending_sentences else ''\n",
    "            sentence_start = i+1\n",
    "        elif c in SENTENCE_END:\n",
    "            append_current_piece_to_current_sentence()\n",
    "            add_current_sentence()\n",
    "            current_sentence = ''\n",
    "            sentence_start = i+1\n",
    "\n",
    "    append_last_piece_to_current_sentence()\n",
    "    add_current_sentence()\n",
    "    for unfinished_sentence in pending_sentences:\n",
    "        add_sentence(unfinished_sentence)\n",
    "\n",
    "    return sentences"
   ]
  },
  {
   "cell_type": "code",
   "execution_count": 25,
   "id": "d22922d4",
   "metadata": {},
   "outputs": [],
   "source": [
    "for df in [df_train, df_test]:\n",
    "    df['review'] = df['review'].apply(split_sentences)"
   ]
  },
  {
   "cell_type": "code",
   "execution_count": 26,
   "id": "7da8f7b5",
   "metadata": {},
   "outputs": [
    {
     "name": "stdout",
     "output_type": "stream",
     "text": [
      "\t['i rented i am curious-yellow from my video store because of all the controversy that surrounded it when it was first released in 1967', 'i also heard that at first it was seized by u', 's', 'customs if it ever tried to enter this country, therefore being a fan of films considered \"controversial\" i really had to see this for myself', 'the plot is centered around a young swedish drama student named lena who wants to learn everything she can about life', 'in particular she wants to focus her attentions to making some sort of documentary on what the average swede thought about certain political issues such as the vietnam war and race issues in the united states', 'in between asking politicians and ordinary denizens of stockholm about their opinions on politics, she has sex with her drama teacher, classmates, and married men', 'what kills me about i am curious-yellow is that 40 years ago, this was considered pornographic', \"really, the sex and nudity scenes are few and far between, even then it's not shot like some cheaply made porno\", 'while my countrymen mind find it shocking, in reality sex and nudity are a major staple in swedish cinema', 'even ingmar bergman, arguably their answer to good old boy john ford, had sex scenes in his films', 'i do commend the filmmakers for the fact that any sex shown in the film is shown for artistic purposes rather than just to shock people and make money to be shown in pornographic theaters in america', 'no pun intended', 'i am curious-yellow is a good film for anyone wanting to study the meat and potatoes  of swedish cinema', \"but really, this film doesn't have much of a plot\"]\n",
      "\n",
      "\t['\"i am curious', 'yellow\" is a risible and pretentious steaming pile', \"it doesn't matter what one's political views are because this film can hardly be taken seriously on any level\", \"as for the claim that frontal male nudity is an automatic nc-17, that isn't true\", \"i've seen r-rated films with male nudity\", 'granted, they only offer some fleeting views, but where are the r-rated films with gaping vulvas and flapping labia', \"nowhere, because they don't exist\", 'the same goes for those crappy cable shows', 'schlongs swinging in the breeze but not a clitoris in sight', \"and those pretentious indie movies like the brown bunny, in which we're treated to the site of vincent gallo's throbbing johnson, but not a trace of pink visible on chloe sevigny\", 'or implying', 'before crying  \"double-standard\" in matters of nudity, the mentally obtuse should take into account one unavoidably obvious anatomical difference between men and women', 'there are no genitals on display when actresses appears nude, and the same cannot be said for a man', \"in fact, you generally won't see female genitals in an american film in anything short of porn or explicit erotica\", \"this alleged double-standard is less a double standard than an admittedly depressing ability to come to terms culturally with the insides of women's bodies\"]\n",
      "\n",
      "\t['if only to avoid making this type of film in the future', 'this film is interesting as an experiment but tells no cogent story', 'one might feel virtuous for sitting thru it because it touches on so many important issues but it does so without any discernable motive', \"unless one comes up with one while one's mind wanders, as it will invariably do during this pointless film\", 'the viewer comes away with no new perspectives', \"one might better spend one's time staring out a window at a tree growing\"]\n",
      "\n",
      "\t[\"this film was probably inspired by godard's masculin, féminin and i urge you to see that film instead\", '1', '2', 'the film has two strong elements and those are,  the realistic acting  the impressive, undeservedly good, photo', 'apart from that, what strikes me most is the endless stream of silliness', 'lena nyman has to be most annoying actress in the world', 'she acts so stupid and with all the nudity in this film,', \"it's unattractive\", \"comparing to godard's film, intellectuality has been replaced with stupidity\", 'without going too far on this subject, i would say that follows from the difference in ideals between the french and the swedish society', 'a movie of its time, and place', '2/10']\n",
      "\n",
      "\t['oh, brother', 'after hearing about this ridiculous film for umpteen years all i can think of is that old peggy lee song', '\"is that all there is', '\"', 'i was just an early teen when this smoked fish hit the u', 's', 'although i did manage to sneak into \"goodbye columbus\"', 'i was too young to get in the theater', 'then a screening at a local film museum beckoned - finally i could see this film, except now i was as old as my parents were when they schlepped to see it', 'the only reason this film was not condemned to the anonymous sands of time was because of the obscenity case sparked by its u', 's', 'release', 'millions of people flocked to this stinker, thinking they were going to see a sex film', 'instead, they got lots of closeups of gnarly, repulsive swedes, on-street interviews in bland shopping malls, asinie political pretension', 'and feeble who-cares simulated sex scenes with saggy, pale actors', 'cultural icon, holy grail, historic artifact', 'whatever this thing was, shred it, burn it, then stuff the ashes in a lead box', 'elite esthetes still scrape to find value in its boring pseudo revolutionary political spewings', \"but if it weren't for the censorship scandal, it would have been ignored, then forgotten\", 'i am curious, lavender - for gay films, i am curious, black - for blaxploitation films, etc', 'instead, the \"i am blank, blank\" rhythymed title was repeated endlessly for years as a titilation for porno films  and every ten years or so the thing rises from the dead, to be viewed by a new generation of suckers who want to see that \"naughty sex film\" that \"revolutionized the film industry\"', 'yeesh, avoid like the plague', 'or if you must see it - rent the video and fast forward to the \"dirty\" parts, just to get it over with']\n",
      "\n",
      "\t['i love sci-fi and am willing to put up with a lot', 'sci-fi movies/tv are usually underfunded, under-appreciated and misunderstood', 'the original', 'i tried to like this, i really did, but it is to good tv sci-fi as babylon 5 is to star trek', \"silly prosthetics, cheap cardboard sets, stilted dialogues, cg that doesn't match the background, and painfully one-dimensional characters cannot be overcome with a 'sci-fi' setting\", \"i'm sure there are those of you out there who think babylon 5 is good sci-fi tv\", \"it's not\", \"it's clichéd and uninspiring\", 'cf', 'star trek', 'while us viewers might like emotion and character development, sci-fi is a genre that does not take itself seriously', 'it may treat important issues, yet not as a serious philosophy', \"it's really difficult to care about the characters here as they are not simply foolish, just missing a spark of life\", 'their actions and reactions are wooden and predictable, often painful to watch', 'the makers of earth know it\\'s rubbish as they have to always say \"gene roddenberry\\'s earth', '\" otherwise people would not continue watching', 'watching it without advert breaks really brings this home', \"roddenberry's ashes must be turning in their orbit as this dull, cheap, poorly edited  trudging trabant of a show lumbers into space\", 'spoiler', 'so, kill off a main character', 'and then bring him back as another actor', 'jeeez', 'dallas all over again']\n",
      "\n",
      "\t['worth the entertainment value of a rental, especially if you like action movies', 'this one features the usual car chases, fights with the great van damme kick style, shooting battles with the 40 shell load shotgun, and even terrorist style bombs', \"all of this is entertaining and competently handled but there is nothing that really blows you away if you've seen your share before\", 'the plot is made interesting by the inclusion of a rabbit, which is clever but hardly profound', 'many of the characters are heavily stereotyped -- the angry veterans, the terrified illegal aliens, the crooked cops, the indifferent feds, the bitchy tough lady station head, the crooked politician, the fat federale who looks like he was typecast as the mexican in a hollywood movie from the 1940s', 'all passably acted but again nothing special', 'i thought the main villains were pretty well done and fairly well acted', \"by the end of the movie you certainly knew who the good guys were and weren't\", 'there was an emotional lift as the really bad ones got their just deserts', \"very simplistic, but then you weren't expecting hamlet, right\", 'the only thing i found really annoying was the constant cuts to vds daughter during the last fight scene', 'not bad', 'not good', 'passable 4']\n",
      "\n",
      "\t['its a totally average film with a few semi-alright action sequences that make the plot seem a little better and remind the viewer of the classic van dam films', \"parts of the plot don't make sense and seem to be added in to use up time\", \"the end plot is that of a very basic type that doesn't leave the viewer guessing and any twists are obvious from the beginning\", \"the end scene with the flask backs don't make sense as they are added in and seem to have little relevance to the history of van dam's character\", 'not really worth watching again, bit disappointed in the end production, even though it is apparent it was shot on a low budget certain shots and sections in the film are of poor directed quality']\n",
      "\n",
      "\t['star rating', 'jean claude van damme', '***** saturday night **** friday night *** friday morning ** sunday night * monday morning   former new orleans homicide cop jack robideaux  is re-assigned to columbus, a small but violent town in mexico to help the police there with their efforts to stop a major heroin smuggling operation into their town', 'stephen lord, otherwise known as jase from east enders', 'the culprits turn out to be ex-military, lead by former commander benjamin meyers  who is using a special method he learned in afghanistan to fight off his opponents', 'but jack has a more personal reason for taking him down, that draws the two men into an explosive final showdown where only one will walk away alive', 'after until death, van damme appeared to be on a high, showing he could make the best straight to video films in the action market', 'while that was a far more drama oriented film, with the shepherd he has returned to the high-kicking, no brainer action that first made him famous and has sadly produced his worst film since derailed', \"it's nowhere near as bad as that film, but what i said still stands\", 'a dull, predictable film, with very little in the way of any exciting action', 'what little there is mainly consists of some limp fight scenes, trying to look cool and trendy with some cheap slo-mo/sped up effects added to them that sadly instead make them look more desperate', 'being a mexican set film, director isaac florentine has tried to give the film a robert rodriguez/desperado sort of feel, but this only adds to the desperation', \"vd gives a particularly uninspired performance and given he's never been a robert de niro sort of actor, that can't be good\", \"as the villain, lord shouldn't expect to leave the beeb anytime soon\", 'he gets little dialogue at the beginning as he struggles to muster an american accent but gets mysteriously better towards the end', 'all the supporting cast are equally bland, and do nothing to raise the films spirits at all', \"this is one shepherd that's strayed right from the flock\", '*']\n",
      "\n",
      "\t[\"first off let me say, if you haven't enjoyed a van damme movie since bloodsport, you probably will not like this movie\", 'most of these movies may not have the best plots or best actors but i enjoy these kinds of movies for what they are', 'segal and dolph', 'this movie is much better than any of the movies the other action guys  have thought about putting out the past few years', 'van damme is good in the movie, the movie is only worth watching to van damme fans', 'which i highly recommend to anyone of likes van damme', \"it is not as good as wake of death  or in hell but, in my opinion it's worth watching\", 'it has the same type of feel to it as nowhere to run', 'good fun stuff']\n",
      "\n"
     ]
    }
   ],
   "source": [
    "print_first_five_reviews_from_each_df([df_train, df_test])"
   ]
  }
 ],
 "metadata": {
  "kernelspec": {
   "display_name": "Python 3 (ipykernel)",
   "language": "python",
   "name": "python3"
  },
  "language_info": {
   "codemirror_mode": {
    "name": "ipython",
    "version": 3
   },
   "file_extension": ".py",
   "mimetype": "text/x-python",
   "name": "python",
   "nbconvert_exporter": "python",
   "pygments_lexer": "ipython3",
   "version": "3.7.5"
  }
 },
 "nbformat": 4,
 "nbformat_minor": 5
}
